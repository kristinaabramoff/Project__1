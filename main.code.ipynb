{
 "cells": [
  {
   "cell_type": "code",
   "execution_count": 1,
   "metadata": {},
   "outputs": [],
   "source": [
    "# Requiured dependencies\n",
    "import os\n",
    "import pandas as pd\n",
    "import scipy.stats as st\n",
    "from scipy.stats import ttest_ind\n",
    "import matplotlib.pyplot as plt\n"
   ]
  },
  {
   "cell_type": "markdown",
   "metadata": {},
   "source": [
    "1.Is a countries happiness score correlated to the countries GDP per capita in 2023? (Jean)"
   ]
  },
  {
   "cell_type": "code",
   "execution_count": null,
   "metadata": {},
   "outputs": [],
   "source": []
  },
  {
   "cell_type": "code",
   "execution_count": null,
   "metadata": {},
   "outputs": [],
   "source": []
  },
  {
   "cell_type": "code",
   "execution_count": null,
   "metadata": {},
   "outputs": [],
   "source": []
  },
  {
   "cell_type": "code",
   "execution_count": null,
   "metadata": {},
   "outputs": [],
   "source": []
  },
  {
   "cell_type": "code",
   "execution_count": null,
   "metadata": {},
   "outputs": [],
   "source": []
  },
  {
   "cell_type": "markdown",
   "metadata": {},
   "source": [
    "2.Does a countries predicted life expectancy affect the happiness score in 2023 ?\n",
    "(Sin)\n"
   ]
  },
  {
   "cell_type": "code",
   "execution_count": null,
   "metadata": {},
   "outputs": [],
   "source": []
  },
  {
   "cell_type": "code",
   "execution_count": null,
   "metadata": {},
   "outputs": [],
   "source": []
  },
  {
   "cell_type": "code",
   "execution_count": null,
   "metadata": {},
   "outputs": [],
   "source": []
  },
  {
   "cell_type": "code",
   "execution_count": null,
   "metadata": {},
   "outputs": [],
   "source": []
  },
  {
   "cell_type": "code",
   "execution_count": null,
   "metadata": {},
   "outputs": [],
   "source": []
  },
  {
   "cell_type": "markdown",
   "metadata": {},
   "source": [
    "3.Which continent is the happiest in 2023? \n",
    "(Uma)\n"
   ]
  },
  {
   "cell_type": "code",
   "execution_count": null,
   "metadata": {},
   "outputs": [],
   "source": []
  },
  {
   "cell_type": "code",
   "execution_count": null,
   "metadata": {},
   "outputs": [],
   "source": []
  },
  {
   "cell_type": "code",
   "execution_count": null,
   "metadata": {},
   "outputs": [],
   "source": []
  },
  {
   "cell_type": "code",
   "execution_count": null,
   "metadata": {},
   "outputs": [],
   "source": []
  },
  {
   "cell_type": "code",
   "execution_count": null,
   "metadata": {},
   "outputs": [],
   "source": []
  },
  {
   "cell_type": "markdown",
   "metadata": {},
   "source": [
    "4.Does Australia, Spain, China and the USA get happier over 2021-2024?\n",
    "(Kristina)"
   ]
  },
  {
   "cell_type": "code",
   "execution_count": 2,
   "metadata": {},
   "outputs": [
    {
     "data": {
      "text/html": [
       "<div>\n",
       "<style scoped>\n",
       "    .dataframe tbody tr th:only-of-type {\n",
       "        vertical-align: middle;\n",
       "    }\n",
       "\n",
       "    .dataframe tbody tr th {\n",
       "        vertical-align: top;\n",
       "    }\n",
       "\n",
       "    .dataframe thead th {\n",
       "        text-align: right;\n",
       "    }\n",
       "</style>\n",
       "<table border=\"1\" class=\"dataframe\">\n",
       "  <thead>\n",
       "    <tr style=\"text-align: right;\">\n",
       "      <th></th>\n",
       "      <th>Country name</th>\n",
       "      <th>2018</th>\n",
       "      <th>2019</th>\n",
       "      <th>2020</th>\n",
       "      <th>2021</th>\n",
       "      <th>2022</th>\n",
       "      <th>2023</th>\n",
       "      <th>2024</th>\n",
       "    </tr>\n",
       "  </thead>\n",
       "  <tbody>\n",
       "    <tr>\n",
       "      <th>0</th>\n",
       "      <td>Australia</td>\n",
       "      <td>7.272</td>\n",
       "      <td>7.2228</td>\n",
       "      <td>7.2228</td>\n",
       "      <td>7.183</td>\n",
       "      <td>7.162</td>\n",
       "      <td>7.095</td>\n",
       "      <td>7.057</td>\n",
       "    </tr>\n",
       "    <tr>\n",
       "      <th>1</th>\n",
       "      <td>Spain</td>\n",
       "      <td>6.310</td>\n",
       "      <td>6.4009</td>\n",
       "      <td>6.4009</td>\n",
       "      <td>6.491</td>\n",
       "      <td>6.476</td>\n",
       "      <td>6.436</td>\n",
       "      <td>6.421</td>\n",
       "    </tr>\n",
       "    <tr>\n",
       "      <th>2</th>\n",
       "      <td>China</td>\n",
       "      <td>5.246</td>\n",
       "      <td>5.1239</td>\n",
       "      <td>5.1239</td>\n",
       "      <td>5.339</td>\n",
       "      <td>5.585</td>\n",
       "      <td>5.818</td>\n",
       "      <td>5.973</td>\n",
       "    </tr>\n",
       "    <tr>\n",
       "      <th>3</th>\n",
       "      <td>United States</td>\n",
       "      <td>6.886</td>\n",
       "      <td>6.9396</td>\n",
       "      <td>6.9396</td>\n",
       "      <td>6.951</td>\n",
       "      <td>6.977</td>\n",
       "      <td>6.894</td>\n",
       "      <td>6.725</td>\n",
       "    </tr>\n",
       "  </tbody>\n",
       "</table>\n",
       "</div>"
      ],
      "text/plain": [
       "    Country name   2018    2019    2020   2021   2022   2023   2024\n",
       "0      Australia  7.272  7.2228  7.2228  7.183  7.162  7.095  7.057\n",
       "1          Spain  6.310  6.4009  6.4009  6.491  6.476  6.436  6.421\n",
       "2          China  5.246  5.1239  5.1239  5.339  5.585  5.818  5.973\n",
       "3  United States  6.886  6.9396  6.9396  6.951  6.977  6.894  6.725"
      ]
     },
     "execution_count": 2,
     "metadata": {},
     "output_type": "execute_result"
    }
   ],
   "source": [
    "csvpath_select = os.path.join('Resources','selected_countries_df.csv')\n",
    "select_countries_df = pd.read_csv(csvpath_select)\n",
    "select_countries_df.head()"
   ]
  },
  {
   "cell_type": "code",
   "execution_count": 3,
   "metadata": {},
   "outputs": [
    {
     "data": {
      "text/html": [
       "<div>\n",
       "<style scoped>\n",
       "    .dataframe tbody tr th:only-of-type {\n",
       "        vertical-align: middle;\n",
       "    }\n",
       "\n",
       "    .dataframe tbody tr th {\n",
       "        vertical-align: top;\n",
       "    }\n",
       "\n",
       "    .dataframe thead th {\n",
       "        text-align: right;\n",
       "    }\n",
       "</style>\n",
       "<table border=\"1\" class=\"dataframe\">\n",
       "  <thead>\n",
       "    <tr style=\"text-align: right;\">\n",
       "      <th></th>\n",
       "      <th>2018</th>\n",
       "      <th>2019</th>\n",
       "      <th>2020</th>\n",
       "      <th>2021</th>\n",
       "      <th>2022</th>\n",
       "      <th>2023</th>\n",
       "      <th>2024</th>\n",
       "    </tr>\n",
       "    <tr>\n",
       "      <th>Country name</th>\n",
       "      <th></th>\n",
       "      <th></th>\n",
       "      <th></th>\n",
       "      <th></th>\n",
       "      <th></th>\n",
       "      <th></th>\n",
       "      <th></th>\n",
       "    </tr>\n",
       "  </thead>\n",
       "  <tbody>\n",
       "    <tr>\n",
       "      <th>Australia</th>\n",
       "      <td>7.272</td>\n",
       "      <td>7.2228</td>\n",
       "      <td>7.2228</td>\n",
       "      <td>7.183</td>\n",
       "      <td>7.162</td>\n",
       "      <td>7.095</td>\n",
       "      <td>7.057</td>\n",
       "    </tr>\n",
       "    <tr>\n",
       "      <th>Spain</th>\n",
       "      <td>6.310</td>\n",
       "      <td>6.4009</td>\n",
       "      <td>6.4009</td>\n",
       "      <td>6.491</td>\n",
       "      <td>6.476</td>\n",
       "      <td>6.436</td>\n",
       "      <td>6.421</td>\n",
       "    </tr>\n",
       "    <tr>\n",
       "      <th>China</th>\n",
       "      <td>5.246</td>\n",
       "      <td>5.1239</td>\n",
       "      <td>5.1239</td>\n",
       "      <td>5.339</td>\n",
       "      <td>5.585</td>\n",
       "      <td>5.818</td>\n",
       "      <td>5.973</td>\n",
       "    </tr>\n",
       "    <tr>\n",
       "      <th>United States</th>\n",
       "      <td>6.886</td>\n",
       "      <td>6.9396</td>\n",
       "      <td>6.9396</td>\n",
       "      <td>6.951</td>\n",
       "      <td>6.977</td>\n",
       "      <td>6.894</td>\n",
       "      <td>6.725</td>\n",
       "    </tr>\n",
       "  </tbody>\n",
       "</table>\n",
       "</div>"
      ],
      "text/plain": [
       "                2018    2019    2020   2021   2022   2023   2024\n",
       "Country name                                                    \n",
       "Australia      7.272  7.2228  7.2228  7.183  7.162  7.095  7.057\n",
       "Spain          6.310  6.4009  6.4009  6.491  6.476  6.436  6.421\n",
       "China          5.246  5.1239  5.1239  5.339  5.585  5.818  5.973\n",
       "United States  6.886  6.9396  6.9396  6.951  6.977  6.894  6.725"
      ]
     },
     "execution_count": 3,
     "metadata": {},
     "output_type": "execute_result"
    }
   ],
   "source": [
    "# Set 'Country name' as the index\n",
    "select_countries_df.set_index(['Country name'], inplace=True)\n",
    "\n",
    "select_countries_df "
   ]
  },
  {
   "cell_type": "code",
   "execution_count": 11,
   "metadata": {},
   "outputs": [
    {
     "data": {
      "image/png": "[encoded data removed]",
      "text/plain": [
       "<Figure size 1000x600 with 1 Axes>"
      ]
     },
     "metadata": {},
     "output_type": "display_data"
    }
   ],
   "source": [
    "\n",
    "# Plot the DataFrame as a line plot\n",
    "select_countries_df.T.plot(marker='o', figsize=(10, 6))\n",
    "\n",
    "# Customize the plot\n",
    "plt.title('Happiness Scores Over Years')\n",
    "plt.xlabel('Year')\n",
    "plt.ylabel('Hapiness Score (Ladder Score/10)')\n",
    "plt.xticks(rotation=45)  # Rotate x-axis labels for better readability\n",
    "plt.legend(title='Country')\n",
    "plt.tight_layout()\n",
    "\n",
    "# Save Show the plot\n",
    "plt.savefig(\"Output/country_overyear_happiness.png\")\n",
    "plt.show()"
   ]
  },
  {
   "cell_type": "code",
   "execution_count": 5,
   "metadata": {},
   "outputs": [
    {
     "data": {
      "text/html": [
       "<div>\n",
       "<style scoped>\n",
       "    .dataframe tbody tr th:only-of-type {\n",
       "        vertical-align: middle;\n",
       "    }\n",
       "\n",
       "    .dataframe tbody tr th {\n",
       "        vertical-align: top;\n",
       "    }\n",
       "\n",
       "    .dataframe thead th {\n",
       "        text-align: right;\n",
       "    }\n",
       "</style>\n",
       "<table border=\"1\" class=\"dataframe\">\n",
       "  <thead>\n",
       "    <tr style=\"text-align: right;\">\n",
       "      <th></th>\n",
       "      <th>Country name</th>\n",
       "      <th>2018</th>\n",
       "      <th>2019</th>\n",
       "      <th>2020</th>\n",
       "      <th>2021</th>\n",
       "      <th>2022</th>\n",
       "      <th>2023</th>\n",
       "      <th>2024</th>\n",
       "    </tr>\n",
       "  </thead>\n",
       "  <tbody>\n",
       "    <tr>\n",
       "      <th>0</th>\n",
       "      <td>Afghanistan</td>\n",
       "      <td>3.632</td>\n",
       "      <td>2.5669</td>\n",
       "      <td>2.5669</td>\n",
       "      <td>2.523</td>\n",
       "      <td>2.404</td>\n",
       "      <td>1.859</td>\n",
       "      <td>1.721</td>\n",
       "    </tr>\n",
       "    <tr>\n",
       "      <th>1</th>\n",
       "      <td>Albania</td>\n",
       "      <td>4.586</td>\n",
       "      <td>4.8827</td>\n",
       "      <td>4.8827</td>\n",
       "      <td>5.117</td>\n",
       "      <td>5.199</td>\n",
       "      <td>5.277</td>\n",
       "      <td>5.304</td>\n",
       "    </tr>\n",
       "    <tr>\n",
       "      <th>2</th>\n",
       "      <td>Algeria</td>\n",
       "      <td>5.295</td>\n",
       "      <td>5.0051</td>\n",
       "      <td>5.0051</td>\n",
       "      <td>4.887</td>\n",
       "      <td>5.122</td>\n",
       "      <td>5.329</td>\n",
       "      <td>5.364</td>\n",
       "    </tr>\n",
       "    <tr>\n",
       "      <th>3</th>\n",
       "      <td>Argentina</td>\n",
       "      <td>6.388</td>\n",
       "      <td>5.9747</td>\n",
       "      <td>5.9747</td>\n",
       "      <td>5.929</td>\n",
       "      <td>5.967</td>\n",
       "      <td>6.024</td>\n",
       "      <td>6.188</td>\n",
       "    </tr>\n",
       "    <tr>\n",
       "      <th>4</th>\n",
       "      <td>Armenia</td>\n",
       "      <td>4.321</td>\n",
       "      <td>4.6768</td>\n",
       "      <td>4.6768</td>\n",
       "      <td>5.283</td>\n",
       "      <td>5.399</td>\n",
       "      <td>5.342</td>\n",
       "      <td>5.455</td>\n",
       "    </tr>\n",
       "  </tbody>\n",
       "</table>\n",
       "</div>"
      ],
      "text/plain": [
       "  Country name   2018    2019    2020   2021   2022   2023   2024\n",
       "0  Afghanistan  3.632  2.5669  2.5669  2.523  2.404  1.859  1.721\n",
       "1      Albania  4.586  4.8827  4.8827  5.117  5.199  5.277  5.304\n",
       "2      Algeria  5.295  5.0051  5.0051  4.887  5.122  5.329  5.364\n",
       "3    Argentina  6.388  5.9747  5.9747  5.929  5.967  6.024  6.188\n",
       "4      Armenia  4.321  4.6768  4.6768  5.283  5.399  5.342  5.455"
      ]
     },
     "execution_count": 5,
     "metadata": {},
     "output_type": "execute_result"
    }
   ],
   "source": [
    "csvpath_all = os.path.join('Resources','allcountries_df.csv')\n",
    "all_countries_clean = pd.read_csv(csvpath_all)\n",
    "\n",
    "\n",
    "all_countries_clean.head()"
   ]
  },
  {
   "cell_type": "code",
   "execution_count": 10,
   "metadata": {},
   "outputs": [
    {
     "name": "stdout",
     "output_type": "stream",
     "text": [
      "Average Ladder Score for 2018: 5.458820895522388\n",
      "Average Ladder Score for 2019: 5.564570142261194\n",
      "Average Ladder Score for 2024: 5.559902985074627\n"
     ]
    },
    {
     "data": {
      "image/png": "[encoded data removed]",
      "text/plain": [
       "<Figure size 640x480 with 1 Axes>"
      ]
     },
     "metadata": {},
     "output_type": "display_data"
    }
   ],
   "source": [
    "average_score_2018 = all_countries_clean['2018'].mean()\n",
    "average_score_2019 = all_countries_clean['2020'].mean()\n",
    "average_score_2024 = all_countries_clean['2024'].mean()\n",
    "print(\"Average Ladder Score for 2018:\", average_score_2018)\n",
    "print(\"Average Ladder Score for 2019:\", average_score_2019)\n",
    "print(\"Average Ladder Score for 2024:\", average_score_2024)\n",
    "\n",
    "# Create a bar graph\n",
    "years = ['2018', '2020', '2024']\n",
    "average_scores = [average_score_2018, average_score_2019, average_score_2024]\n",
    "\n",
    "plt.bar(years, average_scores, color='pink')\n",
    "\n",
    "# Add labels and title\n",
    "plt.xlabel('Year')\n",
    "plt.ylabel('Average Happiness (Ladder Score)')\n",
    "plt.title('Average World Happiness Scores')\n",
    "\n",
    "# Save and Show the plot\n",
    "plt.savefig(\"Output/World_happiness_covid.png\")\n",
    "plt.show()\n"
   ]
  },
  {
   "cell_type": "code",
   "execution_count": 9,
   "metadata": {},
   "outputs": [
    {
     "name": "stdout",
     "output_type": "stream",
     "text": [
      "Independent t-test Results:\n",
      "2018 vs 2020 - t-statistic: -0.7967611999349984 p-value: 0.4263002992821465\n",
      "2020 vs 2024 - t-statistic: 0.03383132378015568 p-value: 0.9730370298064533\n"
     ]
    }
   ],
   "source": [
    "#did covid effect world happiness? # Perform independent t-test for 2018 vs 2019\n",
    "\n",
    "\n",
    "t_stat_2018_2019, p_value_2018_2019 = ttest_ind(all_countries_clean['2018'], all_countries_clean['2020'])\n",
    "\n",
    "# Perform independent t-test for 2019 vs 2024\n",
    "t_stat_2019_2024, p_value_2019_2024 = ttest_ind(all_countries_clean['2020'], all_countries_clean['2024'])\n",
    "\n",
    "# Print the t-statistic and p-value for each comparison\n",
    "print(\"Independent t-test Results:\")\n",
    "print(\"2018 vs 2020 - t-statistic:\", t_stat_2018_2019, \"p-value:\", p_value_2018_2019)\n",
    "print(\"2020 vs 2024 - t-statistic:\", t_stat_2019_2024, \"p-value:\", p_value_2019_2024)\n",
    "\n",
    "\n",
    "\n",
    "\n"
   ]
  },
  {
   "cell_type": "markdown",
   "metadata": {},
   "source": [
    "5.Is there a correlation between a country's unemployment rate and its national happiness score?\n",
    "(Kelela)\n"
   ]
  },
  {
   "cell_type": "code",
   "execution_count": null,
   "metadata": {},
   "outputs": [],
   "source": []
  },
  {
   "cell_type": "code",
   "execution_count": null,
   "metadata": {},
   "outputs": [],
   "source": []
  },
  {
   "cell_type": "code",
   "execution_count": null,
   "metadata": {},
   "outputs": [],
   "source": []
  },
  {
   "cell_type": "code",
   "execution_count": null,
   "metadata": {},
   "outputs": [],
   "source": []
  },
  {
   "cell_type": "code",
   "execution_count": null,
   "metadata": {},
   "outputs": [],
   "source": []
  }
 ],
 "metadata": {
  "kernelspec": {
   "display_name": "myenv",
   "language": "python",
   "name": "python3"
  },
  "language_info": {
   "codemirror_mode": {
    "name": "ipython",
    "version": 3
   },
   "file_extension": ".py",
   "mimetype": "text/x-python",
   "name": "python",
   "nbconvert_exporter": "python",
   "pygments_lexer": "ipython3",
   "version": "3.9.19"
  }
 },
 "nbformat": 4,
 "nbformat_minor": 2
}
