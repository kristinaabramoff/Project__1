{
 "cells": [
  {
   "cell_type": "code",
   "execution_count": 2,
   "metadata": {},
   "outputs": [],
   "source": [
    "# Requiured dependencies\n",
    "import pandas as pd\n",
    "import scipy.stats as st\n",
    "import matplotlib.pyplot as plt\n",
    "from scipy.stats import linregress\n",
    "import os\n",
    "import numpy as np\n",
    "import hvplot\n",
    "import hvplot.pandas\n",
    "import plotly.express as px"
   ]
  },
  {
   "cell_type": "markdown",
   "metadata": {},
   "source": [
    "# Is a countries happiness score correlated to the countries GDP per capita\n"
   ]
  },
  {
   "cell_type": "code",
   "execution_count": null,
   "metadata": {},
   "outputs": [],
   "source": [
    "# Read the 2023 clean set data from Output folder\n",
    "Path_to_csv='Output/Clean_2023_df.csv'\n",
    "clean_data_2023_df= pd.read_csv(Path_to_csv)\n",
    "clean_data_2023_df.head()"
   ]
  },
  {
   "cell_type": "code",
   "execution_count": null,
   "metadata": {},
   "outputs": [],
   "source": [
    "# Create Scatter Plot and Linear Regression to find the relaltion between countries' Ladder score and Logged GDP per capita\n",
    "x = clean_data_2023_df['Logged GDP per capita']\n",
    "y = clean_data_2023_df['Ladder score']\n",
    "\n",
    "# Caculate the regression line, create scatter plot\n",
    "slope, intercept, rvalue, p_value, std_err = linregress(x, y)\n",
    "line_eq = \"y = \" + str(round(slope,2)) + \"x + \" + str(round(intercept,2))\n",
    "line = slope * x + intercept\n",
    "plt.figure(figsize=(10, 6))\n",
    "plt.scatter(x, y, color='steelblue', label='Data points')  \n",
    "plt.plot(x, line, color='red', label=f'{line_eq}')\n",
    "plt.title('Scatter Plot of Happiness Score vs GDP per Capita with Regression Line')\n",
    "plt.xlabel('Logged GDP per Capita')\n",
    "plt.ylabel('Happiness Score')\n",
    "plt.legend()\n",
    "\n",
    "# Show Plot\n",
    "print(f\"The r-squared is: {rvalue**2}\")\n",
    "plt.grid(True)\n",
    "plt.show()\n",
    "\n",
    "# Save the visualisation \n",
    "plt.savefig('Output/Scatterplot.png')"
   ]
  },
  {
   "cell_type": "markdown",
   "metadata": {},
   "source": [
    "Analysis of the regression, the slope of 0.74 indicates that as GDP per capita increases, there is a corresponding rise in the happiness score, through this rise is moderate.\n",
    "R-squared value obtained is approximately 0.615. It suggests that about 61.5% of the variance in happiness scores among the countries can be explained by differences in their GDP per capita.\n",
    "The scatter plot indicates that higher GDP per capita is generally associated with higher happiness scores. There is a positive relationship between these two factors. "
   ]
  },
  {
   "cell_type": "code",
   "execution_count": null,
   "metadata": {},
   "outputs": [],
   "source": [
    "# A dual-axis line chart \n",
    "fig, ax1 = plt.subplots(figsize=(10, 6))\n",
    "\n",
    "color = 'tab:red'\n",
    "ax1.set_xlabel('Country Index')\n",
    "ax1.set_ylabel('Happiness Score', color=color)\n",
    "ax1.plot(clean_data_2023_df['Country name'], clean_data_2023_df['Ladder score'], color=color)\n",
    "ax1.tick_params(axis='y', labelcolor=color)\n",
    "\n",
    "ax2 = ax1.twinx()\n",
    "color = 'tab:blue'\n",
    "ax2.set_ylabel('Logged GDP per Capita', color=color)\n",
    "ax2.plot(clean_data_2023_df['Country name'], clean_data_2023_df['Logged GDP per capita'], color=color)\n",
    "ax2.tick_params(axis='y', labelcolor=color)\n",
    "\n",
    "fig.tight_layout()\n",
    "plt.title('Dual Axes Line Chart of Happiness Score vs GDP per Capita')\n",
    "plt.xticks(rotation=90)\n",
    "plt.show()\n",
    "\n",
    "\n",
    "# Save the visualisation \n",
    "plt.savefig('Output/dual-axisline.png')"
   ]
  },
  {
   "cell_type": "markdown",
   "metadata": {},
   "source": [
    "Analysis of a dual-axis line chart, there is a visible parallel trend between the happiness scores and GDP per capita, implying a potential correlation where countries with higher GDP per capita tend to have higher happiness scores and vice versa.\n",
    "The data indicates a linkage between economic performance and happiness, with variations in GDP having a visible association with changes in happiness scores. This correlation suggests that economic factors could be a significant determinant of national well-being."
   ]
  },
  {
   "cell_type": "markdown",
   "metadata": {},
   "source": [
    "# Is there a correlation between a country's unemployment rate and its national happiness score?"
   ]
  },
  {
   "cell_type": "markdown",
   "metadata": {},
   "source": [
    "# Does a countries predicted life expectancy affect the happiness score?"
   ]
  },
  {
   "cell_type": "code",
   "execution_count": null,
   "metadata": {},
   "outputs": [],
   "source": [
    "# Read saved data\n",
    "dataframe_2023_subset = pd.read_csv(\"Output/Clean_2023.csv\")\n",
    "\n",
    "# Display sample data\n",
    "dataframe_2023_subset.head()"
   ]
  },
  {
   "cell_type": "code",
   "execution_count": null,
   "metadata": {},
   "outputs": [],
   "source": [
    "# Check for NaN values in the DataFrame\n",
    "nan_values = dataframe_2023_subset[dataframe_2023_subset.isnull().any(axis=1)]\n",
    "\n",
    "# Display rows with NaN values\n",
    "print(\"Rows with NaN values:\")\n",
    "print(nan_values)\n",
    "# Remove rows with NaN values\n",
    "dataframe_2023_subset_clean = dataframe_2023_subset.dropna()\n",
    "\n",
    "# Display the cleaned DataFrame\n",
    "print(\"DataFrame after removing rows with NaN values:\")\n",
    "dataframe_2023_subset_clean.head()"
   ]
  },
  {
   "cell_type": "code",
   "execution_count": null,
   "metadata": {},
   "outputs": [],
   "source": [
    "x_values = dataframe_2023_subset_clean['Healthy life expectancy']\n",
    "y_values = dataframe_2023_subset_clean['Ladder score']\n",
    "\n",
    "# Calculate linear regression\n",
    "slope, intercept, rvalue, pvalue, stderr = linregress(x_values, y_values)\n",
    "regress_values = x_values * slope + intercept\n",
    "line_eq = \"y = \" + str(round(slope, 2)) + \"x + \" + str(round(intercept, 2))\n",
    "\n",
    "# Plot scatter plot\n",
    "dataframe_2023_subset_clean.plot(kind=\"scatter\", \n",
    "                           x=\"Healthy life expectancy\", \n",
    "                           y=\"Ladder score\", \n",
    "                           title=\"Scatter Plot of Happiness Score vs Healthy Life Expectancy\",\n",
    "                           figsize=(8, 6))\n",
    "\n",
    "# Plot linear regression line\n",
    "plt.plot(x_values, regress_values, \"r-\")\n",
    "\n",
    "# Annotate line equation\n",
    "plt.annotate(line_eq, (x_values.min(), y_values.max()), fontsize=15, color=\"red\")\n",
    "\n",
    "# Set x-label to \"Happiness Score\"\n",
    "plt.ylabel(\"Happiness Score\")\n",
    "\n",
    "# Print r-squared value\n",
    "print(f\"The r-squared is: {rvalue**2}\")\n",
    "\n",
    "# calculate variance and std for the \"life expectancy\" column\n",
    "life_expectancy_column = dataframe_2023_subset['Healthy life expectancy']\n",
    "\n",
    "# Demonstrate calculating the variance and standard deviation using the different modules\n",
    "var_numpy = np.var(life_expectancy_column, ddof=0)\n",
    "print(f\"The population variance using the NumPy module is {var_numpy}\")\n",
    "\n",
    "# Calculate the standard deviation using NumPy\n",
    "sd_numpy = np.std(life_expectancy_column, ddof=0)\n",
    "print(f\"The population standard deviation using the NumPy module is {sd_numpy}\")\n",
    "\n",
    "# Show plot\n",
    "plt.show()\n"
   ]
  },
  {
   "cell_type": "markdown",
   "metadata": {},
   "source": [
    "**Discussion about the linear relationship:**\n",
    "The linear relationship between hapiness score and life expectancy can be observed in the scatter plot and linear regression analysis. As happiness score increases, the life expectancy seems to be increasing. This positive correlation is evident from the upward trend of the regression line, indicating that countries with higher happiness score have a higher life expectancy. "
   ]
  },
  {
   "cell_type": "code",
   "execution_count": null,
   "metadata": {},
   "outputs": [],
   "source": [
    "# Create a scatter plot using hvplot.points with customized parameters\n",
    "scatter_plot1 = dataframe_2023_subset_clean.hvplot.points(\n",
    "    x=\"Country name\",\n",
    "    y=\"Healthy life expectancy\",\n",
    "    hover_cols=[\"Country name\", \"Healthy life expectancy\", \"Ladder score\"],\n",
    "    title=\"Scatter Plot of Happiness score by Country\",\n",
    "    xlabel=\"Country name\",\n",
    "    ylabel=\"Happiness score\",\n",
    "    grid=True,\n",
    "    line_color=\"black\",\n",
    "    marker=\"o\",\n",
    "    size=10,\n",
    "    fontsize={\"xlabel\": 10, \"ylabel\": 10, \"title\": 14},\n",
    "    rot=90,\n",
    ")\n",
    "\n",
    "# Save the plot as an HTML file\n",
    "hvplot.save(scatter_plot1, \"Healthy Life Expectancy by Country.html\")\n",
    "\n",
    "# Show the plot\n",
    "scatter_plot1\n"
   ]
  },
  {
   "cell_type": "code",
   "execution_count": null,
   "metadata": {},
   "outputs": [],
   "source": [
    "# Create a scatter plot using hvplot.points with customized parameters\n",
    "scatter_plot2 = dataframe_2023_subset_clean.hvplot.points(\n",
    "    x=\"Healthy life expectancy\",\n",
    "    y=\"Ladder score\",\n",
    "    hover_cols=[\"Country name\", \"Healthy life expectancy\",\"Ladder score\"],\n",
    "    title=\"Scatter Plot of Healthy Life Expectancy V/S Happiness score\",\n",
    "    xlabel=\"Happiness score\",\n",
    "    ylabel=\"Healthy life expectancy\",\n",
    "    grid=True,  \n",
    "    line_color=\"black\",  \n",
    "    marker=\"o\",  \n",
    "    size=10, \n",
    "    fontsize={\"xlabel\": 10, \"ylabel\": 10, \"title\": 14},\n",
    "    rot=90,  \n",
    ")\n",
    "\n",
    "# Save the plot\n",
    "hvplot.save(scatter_plot2, \"Healthy Life Expectancy Vs Happiness score.html\")\n",
    "\n",
    "# Show the plot\n",
    "scatter_plot2"
   ]
  },
  {
   "cell_type": "markdown",
   "metadata": {},
   "source": [
    "# Which continent is the happiest? \n"
   ]
  },
  {
   "cell_type": "markdown",
   "metadata": {},
   "source": [
    "Which region is the happiest in 2023? \n",
    "The average happiness score of different countries is affected when compared between different regions. In other words, there is a significant difference in the average happiness scores across regions.\n"
   ]
  },
  {
   "cell_type": "code",
   "execution_count": null,
   "metadata": {},
   "outputs": [],
   "source": [
    "#import world happiness record file\n",
    "whr23= pd.read_csv('RESOURCES/WHR2023.csv')\n",
    "\n",
    "# import'world-data-2023.csv' file \n",
    "world_data = pd.read_csv('RESOURCES/world-data-2023.csv')\n",
    "\n",
    "# import'continent.csv' file \n",
    "continent_file= pd.read_csv('RESOURCES/continents2.csv')"
   ]
  },
  {
   "cell_type": "code",
   "execution_count": null,
   "metadata": {},
   "outputs": [],
   "source": [
    "whr23.head()"
   ]
  },
  {
   "cell_type": "code",
   "execution_count": null,
   "metadata": {},
   "outputs": [],
   "source": [
    "# Data Cleaning\n",
    "# Now let's start joining data\n",
    "\n",
    "# Change column names to match the main dataset\n",
    "continent_file.rename(columns={'name': 'Country name', 'alpha-2': 'country code'}, inplace=True)\n",
    "continent_file.head()"
   ]
  },
  {
   "cell_type": "code",
   "execution_count": null,
   "metadata": {},
   "outputs": [],
   "source": [
    "#Merge region and sub-region into whr23score after country name\n",
    "column_order = ['Country name', 'region', 'sub-region', 'country code']\n",
    "merged_data = whr23.merge(continent_file[['Country name', 'region', 'sub-region', 'country code']], on='Country name')\n",
    "#for easier reading, let's change the column order.\n",
    "column_order = ['Country name', 'region', 'sub-region', 'country code'] + [col for col in merged_data.columns if col not in column_order]\n",
    "merged_data = merged_data[column_order]\n",
    "merged_data.head()"
   ]
  },
  {
   "cell_type": "code",
   "execution_count": null,
   "metadata": {},
   "outputs": [],
   "source": [
    "# Rename the 'Country' column to 'Country name' in the extra_data DataFrame\n",
    "world_data.rename(columns={'Country': 'Country name'}, inplace=True)\n",
    "\n",
    "#Merge the data for your own new dataset\n",
    "full_data = merged_data.merge(world_data[['Country name', 'Unemployment rate', 'Urban_population', 'Population', 'Official language']], on='Country name')\n",
    "# Display the first few rows of the merged DataFrame\n",
    "full_data.head()"
   ]
  },
  {
   "cell_type": "code",
   "execution_count": null,
   "metadata": {},
   "outputs": [],
   "source": [
    "#Now i will check for null values\n",
    "full_data.isna().sum()"
   ]
  },
  {
   "cell_type": "code",
   "execution_count": null,
   "metadata": {},
   "outputs": [],
   "source": [
    "# Is there any duplicate?\n",
    "full_data[full_data.duplicated(keep=False)]"
   ]
  },
  {
   "cell_type": "code",
   "execution_count": null,
   "metadata": {},
   "outputs": [],
   "source": [
    "#g Now let's add our own math an calculate the percentage living in an urban area\n",
    "full_data['Urban_population'] = full_data['Urban_population'].str.replace(',', '').astype(float)\n",
    "full_data['Population'] = full_data['Population'].str.replace(',', '').astype(float)\n",
    "full_data['Urban_population_percentage'] = (full_data['Urban_population'] / full_data['Population']) * 100\n",
    "full_data.head()"
   ]
  },
  {
   "cell_type": "code",
   "execution_count": null,
   "metadata": {},
   "outputs": [],
   "source": [
    "# Data Visualisation\n",
    "# Define custom colors for the color scale\n",
    "custom_color_scale = [\n",
    "    (0.0, \"red\"),    # Low scores in red\n",
    "    (0.5, \"orange\"), # Medium scores in orange\n",
    "    (1.0, \"green\")   # High scores in green\n",
    "]\n",
    "\n",
    "fig = px.choropleth(full_data, locations=\"Country name\", locationmode='country names',\n",
    "                    color=\"Ladder score\", hover_name=\"Country name\",\n",
    "                    title=\"World Happiness Report: Ladder score by country\",\n",
    "                    color_continuous_scale=custom_color_scale)\n",
    "\n",
    "fig.show()\n",
    "\n",
    "# Save Show the plot\n",
    "plt.savefig(\"Output/world map of ladder score.png\")\n",
    "plt.show()"
   ]
  },
  {
   "cell_type": "code",
   "execution_count": null,
   "metadata": {},
   "outputs": [],
   "source": [
    "# Create a box plot showing the distribution of happiness scores by sub-region \n",
    "fig = px.box(full_data, x='region', y='Ladder score', \n",
    "             title='Distribution of Happiness Scores by region',\n",
    "             labels={'region': 'Continent', 'Ladder score': 'Happiness Score'},\n",
    "             color='region', \n",
    "             height=400)\n",
    "\n",
    "fig.update_layout(xaxis_title='region', yaxis_title='Happiness Score')\n",
    "\n",
    "fig.show()\n",
    "\n",
    "# Save Show the plot\n",
    "plt.savefig(\"Output/box plot of happiness score.png\")\n",
    "plt.show()"
   ]
  },
  {
   "cell_type": "code",
   "execution_count": null,
   "metadata": {},
   "outputs": [],
   "source": [
    "group0 = full_data[full_data[\"region\"] == \"Europe\"][\"Ladder score\"]\n",
    "group1 = full_data[full_data[\"region\"] == \"Asia\"][\"Ladder score\"]\n",
    "group2 = full_data[full_data[\"region\"] == \"Oceania\"][\"Ladder score\"]\n",
    "group3 = full_data[full_data[\"region\"] == \"Americas\"][\"Ladder score\"]\n",
    "group4 = full_data[full_data[\"region\"] == \"Africa\"][\"Ladder score\"]"
   ]
  },
  {
   "cell_type": "code",
   "execution_count": null,
   "metadata": {},
   "outputs": [],
   "source": [
    "stats.f_oneway(group0, group1, group2, group3, group4)"
   ]
  },
  {
   "cell_type": "code",
   "execution_count": 2,
   "metadata": {},
   "outputs": [],
   "source": [
    "# Does Australia, Spain, China and the USA get happier over 2021-2024\n"
   ]
  },
  {
   "cell_type": "code",
   "execution_count": null,
   "metadata": {},
   "outputs": [],
   "source": []
  }
 ],
 "metadata": {
  "kernelspec": {
   "display_name": "python_38",
   "language": "python",
   "name": "python3"
  },
  "language_info": {
   "codemirror_mode": {
    "name": "ipython",
    "version": 3
   },
   "file_extension": ".py",
   "mimetype": "text/x-python",
   "name": "python",
   "nbconvert_exporter": "python",
   "pygments_lexer": "ipython3",
   "version": "3.8.19"
  }
 },
 "nbformat": 4,
 "nbformat_minor": 2
}
