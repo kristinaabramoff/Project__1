{
 "cells": [
  {
   "cell_type": "code",
   "execution_count": 19,
   "metadata": {},
   "outputs": [
    {
     "data": {
      "text/html": [
       "<div>\n",
       "<style scoped>\n",
       "    .dataframe tbody tr th:only-of-type {\n",
       "        vertical-align: middle;\n",
       "    }\n",
       "\n",
       "    .dataframe tbody tr th {\n",
       "        vertical-align: top;\n",
       "    }\n",
       "\n",
       "    .dataframe thead th {\n",
       "        text-align: right;\n",
       "    }\n",
       "</style>\n",
       "<table border=\"1\" class=\"dataframe\">\n",
       "  <thead>\n",
       "    <tr style=\"text-align: right;\">\n",
       "      <th></th>\n",
       "      <th>Unnamed: 0</th>\n",
       "      <th>Country name</th>\n",
       "      <th>Ladder score</th>\n",
       "      <th>Logged GDP per capita</th>\n",
       "      <th>Healthy life expectancy</th>\n",
       "    </tr>\n",
       "  </thead>\n",
       "  <tbody>\n",
       "    <tr>\n",
       "      <th>0</th>\n",
       "      <td>0</td>\n",
       "      <td>Finland</td>\n",
       "      <td>7.804</td>\n",
       "      <td>10.792</td>\n",
       "      <td>71.150</td>\n",
       "    </tr>\n",
       "    <tr>\n",
       "      <th>1</th>\n",
       "      <td>1</td>\n",
       "      <td>Denmark</td>\n",
       "      <td>7.586</td>\n",
       "      <td>10.962</td>\n",
       "      <td>71.250</td>\n",
       "    </tr>\n",
       "    <tr>\n",
       "      <th>2</th>\n",
       "      <td>2</td>\n",
       "      <td>Iceland</td>\n",
       "      <td>7.530</td>\n",
       "      <td>10.896</td>\n",
       "      <td>72.050</td>\n",
       "    </tr>\n",
       "    <tr>\n",
       "      <th>3</th>\n",
       "      <td>3</td>\n",
       "      <td>Israel</td>\n",
       "      <td>7.473</td>\n",
       "      <td>10.639</td>\n",
       "      <td>72.697</td>\n",
       "    </tr>\n",
       "    <tr>\n",
       "      <th>4</th>\n",
       "      <td>4</td>\n",
       "      <td>Netherlands</td>\n",
       "      <td>7.403</td>\n",
       "      <td>10.942</td>\n",
       "      <td>71.550</td>\n",
       "    </tr>\n",
       "  </tbody>\n",
       "</table>\n",
       "</div>"
      ],
      "text/plain": [
       "   Unnamed: 0 Country name  Ladder score  Logged GDP per capita  \\\n",
       "0           0      Finland         7.804                 10.792   \n",
       "1           1      Denmark         7.586                 10.962   \n",
       "2           2      Iceland         7.530                 10.896   \n",
       "3           3       Israel         7.473                 10.639   \n",
       "4           4  Netherlands         7.403                 10.942   \n",
       "\n",
       "   Healthy life expectancy  \n",
       "0                   71.150  \n",
       "1                   71.250  \n",
       "2                   72.050  \n",
       "3                   72.697  \n",
       "4                   71.550  "
      ]
     },
     "execution_count": 19,
     "metadata": {},
     "output_type": "execute_result"
    }
   ],
   "source": [
    "# Requiured dependencies\n",
    "import pandas as pd\n",
    "import scipy.stats as st\n",
    "import matplotlib.pyplot as plt\n",
    "import hvplot.pandas\n",
    "\n",
    "# Read saved data\n",
    "dataframe_2023_subset = pd.read_csv(\"Output/Clean_2023_df.csv\")\n",
    "\n",
    "# Display sample data\n",
    "dataframe_2023_subset.head()\n",
    " "
   ]
  },
  {
   "cell_type": "markdown",
   "metadata": {},
   "source": [
    "1.Is a countries happiness score correlated to the countries GDP per capita in 2023? (Jean)"
   ]
  },
  {
   "cell_type": "code",
   "execution_count": null,
   "metadata": {},
   "outputs": [],
   "source": []
  },
  {
   "cell_type": "code",
   "execution_count": null,
   "metadata": {},
   "outputs": [],
   "source": []
  },
  {
   "cell_type": "code",
   "execution_count": null,
   "metadata": {},
   "outputs": [],
   "source": []
  },
  {
   "cell_type": "code",
   "execution_count": null,
   "metadata": {},
   "outputs": [],
   "source": []
  },
  {
   "cell_type": "code",
   "execution_count": null,
   "metadata": {},
   "outputs": [],
   "source": []
  },
  {
   "cell_type": "markdown",
   "metadata": {},
   "source": [
    "2.Does a countries predicted life expectancy affect the happiness score in 2023 ?\n",
    "(Sin)\n"
   ]
  },
  {
   "cell_type": "code",
   "execution_count": 21,
   "metadata": {},
   "outputs": [
    {
     "data": {},
     "metadata": {},
     "output_type": "display_data"
    },
    {
     "data": {
      "application/vnd.holoviews_exec.v0+json": "",
      "text/html": [
       "<div id='p1319'>\n",
       "  <div id=\"eb0ee9e7-6486-43e7-a204-b80662a7f040\" data-root-id=\"p1319\" style=\"display: contents;\"></div>\n",
       "</div>\n",
       "<script type=\"application/javascript\">(function(root) {\n",
       "  var docs_json = {\"15ea4993-4f53-4b78-b74b-2d911278e6a8\":{\"version\":\"3.4.0\",\"title\":\"Bokeh Application\",\"roots\":[{\"type\":\"object\",\"name\":\"Row\",\"id\":\"p1319\",\"attributes\":{\"name\":\"Row01728\",\"tags\":[\"embedded\"],\"stylesheets\":[\"\\n:host(.pn-loading):before, .pn-loading:before {\\n  background-color: #c3c3c3;\\n  mask-size: auto calc(min(50%, 400px));\\n  -webkit-mask-size: auto calc(min(50%, 400px));\\n}\",{\"type\":\"object\",\"name\":\"ImportedStyleSheet\",\"id\":\"p1322\",\"attributes\":{\"url\":\"https://cdn.holoviz.org/panel/1.4.1/dist/css/loading.css\"}},{\"type\":\"object\",\"name\":\"ImportedStyleSheet\",\"id\":\"p1378\",\"attributes\":{\"url\":\"https://cdn.holoviz.org/panel/1.4.1/dist/css/listpanel.css\"}},{\"type\":\"object\",\"name\":\"ImportedStyleSheet\",\"id\":\"p1320\",\"attributes\":{\"url\":\"https://cdn.holoviz.org/panel/1.4.1/dist/bundled/theme/default.css\"}},{\"type\":\"object\",\"name\":\"ImportedStyleSheet\",\"id\":\"p1321\",\"attributes\":{\"url\":\"https://cdn.holoviz.org/panel/1.4.1/dist/bundled/theme/native.css\"}}],\"min_width\":700,\"margin\":0,\"sizing_mode\":\"stretch_width\",\"align\":\"start\",\"children\":[{\"type\":\"object\",\"name\":\"Spacer\",\"id\":\"p1323\",\"attributes\":{\"name\":\"HSpacer01735\",\"stylesheets\":[\"\\n:host(.pn-loading):before, .pn-loading:before {\\n  background-color: #c3c3c3;\\n  mask-size: auto calc(min(50%, 400px));\\n  -webkit-mask-size: auto calc(min(50%, 400px));\\n}\",{\"id\":\"p1322\"},{\"id\":\"p1320\"},{\"id\":\"p1321\"}],\"margin\":0,\"sizing_mode\":\"stretch_width\",\"align\":\"start\"}},{\"type\":\"object\",\"name\":\"Figure\",\"id\":\"p1331\",\"attributes\":{\"width\":700,\"height\":300,\"margin\":[5,10],\"sizing_mode\":\"fixed\",\"align\":\"start\",\"x_range\":{\"type\":\"object\",\"name\":\"FactorRange\",\"id\":\"p1324\",\"attributes\":{\"tags\":[[[\"Country name\",\"Country name\",null]],[]],\"factors\":[\"Finland\",\"Denmark\",\"Iceland\",\"Israel\",\"Netherlands\",\"Sweden\",\"Norway\",\"Switzerland\",\"Luxembourg\",\"New Zealand\",\"Austria\",\"Australia\",\"Canada\",\"Ireland\",\"United States\",\"Germany\",\"Belgium\",\"Czechia\",\"United Kingdom\",\"Lithuania\",\"France\",\"Slovenia\",\"Costa Rica\",\"Romania\",\"Singapore\",\"United Arab Emirates\",\"Taiwan Province of China\",\"Uruguay\",\"Slovakia\",\"Saudi Arabia\",\"Estonia\",\"Spain\",\"Italy\",\"Kosovo\",\"Chile\",\"Mexico\",\"Malta\",\"Panama\",\"Poland\",\"Nicaragua\",\"Latvia\",\"Bahrain\",\"Guatemala\",\"Kazakhstan\",\"Serbia\",\"Cyprus\",\"Japan\",\"Croatia\",\"Brazil\",\"El Salvador\",\"Hungary\",\"Argentina\",\"Honduras\",\"Uzbekistan\",\"Malaysia\",\"Portugal\",\"South Korea\",\"Greece\",\"Mauritius\",\"Thailand\",\"Mongolia\",\"Kyrgyzstan\",\"Moldova\",\"China\",\"Vietnam\",\"Paraguay\",\"Montenegro\",\"Jamaica\",\"Bolivia\",\"Russia\",\"Bosnia and Herzegovina\",\"Colombia\",\"Dominican Republic\",\"Ecuador\",\"Peru\",\"Philippines\",\"Bulgaria\",\"Nepal\",\"Armenia\",\"Tajikistan\",\"Algeria\",\"Hong Kong S.A.R. of China\",\"Albania\",\"Indonesia\",\"South Africa\",\"Congo (Brazzaville)\",\"North Macedonia\",\"Venezuela\",\"Laos\",\"Georgia\",\"Guinea\",\"Ukraine\",\"Ivory Coast\",\"Gabon\",\"Nigeria\",\"Cameroon\",\"Mozambique\",\"Iraq\",\"State of Palestine\",\"Morocco\",\"Iran\",\"Senegal\",\"Mauritania\",\"Burkina Faso\",\"Namibia\",\"Turkiye\",\"Ghana\",\"Pakistan\",\"Niger\",\"Tunisia\",\"Kenya\",\"Sri Lanka\",\"Uganda\",\"Chad\",\"Cambodia\",\"Benin\",\"Myanmar\",\"Bangladesh\",\"Gambia\",\"Mali\",\"Egypt\",\"Togo\",\"Jordan\",\"Ethiopia\",\"Liberia\",\"India\",\"Madagascar\",\"Zambia\",\"Tanzania\",\"Comoros\",\"Malawi\",\"Botswana\",\"Congo (Kinshasa)\",\"Zimbabwe\",\"Sierra Leone\",\"Lebanon\",\"Afghanistan\"]}},\"y_range\":{\"type\":\"object\",\"name\":\"Range1d\",\"id\":\"p1325\",\"attributes\":{\"tags\":[[[\"Healthy life expectancy\",\"Healthy life expectancy\",null]],{\"type\":\"map\",\"entries\":[[\"invert_yaxis\",false],[\"autorange\",false]]}],\"start\":48.955,\"end\":79.855,\"reset_start\":48.955,\"reset_end\":79.855}},\"x_scale\":{\"type\":\"object\",\"name\":\"CategoricalScale\",\"id\":\"p1341\"},\"y_scale\":{\"type\":\"object\",\"name\":\"LinearScale\",\"id\":\"p1342\"},\"title\":{\"type\":\"object\",\"name\":\"Title\",\"id\":\"p1334\",\"attributes\":{\"text\":\"Scatter Plot of Healthy Life Expectancy by Country\",\"text_color\":\"black\",\"text_font_size\":\"14pt\"}},\"renderers\":[{\"type\":\"object\",\"name\":\"GlyphRenderer\",\"id\":\"p1371\",\"attributes\":{\"data_source\":{\"type\":\"object\",\"name\":\"ColumnDataSource\",\"id\":\"p1362\",\"attributes\":{\"selected\":{\"type\":\"object\",\"name\":\"Selection\",\"id\":\"p1363\",\"attributes\":{\"indices\":[],\"line_indices\":[]}},\"selection_policy\":{\"type\":\"object\",\"name\":\"UnionRenderers\",\"id\":\"p1364\"},\"data\":{\"type\":\"map\",\"entries\":[[\"Country name\",[\"Finland\",\"Denmark\",\"Iceland\",\"Israel\",\"Netherlands\",\"Sweden\",\"Norway\",\"Switzerland\",\"Luxembourg\",\"New Zealand\",\"Austria\",\"Australia\",\"Canada\",\"Ireland\",\"United States\",\"Germany\",\"Belgium\",\"Czechia\",\"United Kingdom\",\"Lithuania\",\"France\",\"Slovenia\",\"Costa Rica\",\"Romania\",\"Singapore\",\"United Arab Emirates\",\"Taiwan Province of China\",\"Uruguay\",\"Slovakia\",\"Saudi Arabia\",\"Estonia\",\"Spain\",\"Italy\",\"Kosovo\",\"Chile\",\"Mexico\",\"Malta\",\"Panama\",\"Poland\",\"Nicaragua\",\"Latvia\",\"Bahrain\",\"Guatemala\",\"Kazakhstan\",\"Serbia\",\"Cyprus\",\"Japan\",\"Croatia\",\"Brazil\",\"El Salvador\",\"Hungary\",\"Argentina\",\"Honduras\",\"Uzbekistan\",\"Malaysia\",\"Portugal\",\"South Korea\",\"Greece\",\"Mauritius\",\"Thailand\",\"Mongolia\",\"Kyrgyzstan\",\"Moldova\",\"China\",\"Vietnam\",\"Paraguay\",\"Montenegro\",\"Jamaica\",\"Bolivia\",\"Russia\",\"Bosnia and Herzegovina\",\"Colombia\",\"Dominican Republic\",\"Ecuador\",\"Peru\",\"Philippines\",\"Bulgaria\",\"Nepal\",\"Armenia\",\"Tajikistan\",\"Algeria\",\"Hong Kong S.A.R. of China\",\"Albania\",\"Indonesia\",\"South Africa\",\"Congo (Brazzaville)\",\"North Macedonia\",\"Venezuela\",\"Laos\",\"Georgia\",\"Guinea\",\"Ukraine\",\"Ivory Coast\",\"Gabon\",\"Nigeria\",\"Cameroon\",\"Mozambique\",\"Iraq\",\"State of Palestine\",\"Morocco\",\"Iran\",\"Senegal\",\"Mauritania\",\"Burkina Faso\",\"Namibia\",\"Turkiye\",\"Ghana\",\"Pakistan\",\"Niger\",\"Tunisia\",\"Kenya\",\"Sri Lanka\",\"Uganda\",\"Chad\",\"Cambodia\",\"Benin\",\"Myanmar\",\"Bangladesh\",\"Gambia\",\"Mali\",\"Egypt\",\"Togo\",\"Jordan\",\"Ethiopia\",\"Liberia\",\"India\",\"Madagascar\",\"Zambia\",\"Tanzania\",\"Comoros\",\"Malawi\",\"Botswana\",\"Congo (Kinshasa)\",\"Zimbabwe\",\"Sierra Leone\",\"Lebanon\",\"Afghanistan\"]],[\"Healthy life expectancy\",{\"type\":\"ndarray\",\"array\":{\"type\":\"bytes\",\"data\":\"mpmZmZnJUUAAAAAAANBRQDMzMzMzA1JA+FPjpZssUkAzMzMzM+NRQJqZmZmZCVJAAAAAAADgUUCamZmZmTlSQDMzMzMz61FAZmZmZmaWUUCamZmZmclRQDMzMzMzw1FAmpmZmZnZUUAzMzMzM9NRQGZmZmZmdlBAMzMzMzPTUUCoxks3iblRQDMzMzMzQ1FAMzMzMzOTUUDFILByaNlQQDMzMzMzE1JAF9nO91PDUUAAAAAAAIBRQCUGgZVDw1BAMzMzMzNzUkBkO99PjY9QQGZmZmZmZlFAAAAAAADgUEASg8DKoTVRQKjGSzeJGVBAmpmZmZlpUUBmZmZmZhZSQDMzMzMzA1JAFK5H4XpMUEAzMzMzM5NRQDMzMzMzc1BAZmZmZmbmUUDNzMzMzDxRQEJg5dAiQ1FAmpmZmZlpUECamZmZmZlQQM3MzMzMdFBAMzMzMzNzT0AX2c73U3NQQBKDwMqhxVBAF9nO91MzUkB1kxgEVpZSQM3MzMzMPFFADi2yne9vUECR7Xw/NWZQQAAAAAAA4FBAzczMzMzMUEB56SYxCARQQCUGgZVDU1BA7nw/NV5qUEAAAAAAANBRQJqZmZmZaVJAmpmZmZnJUUDNzMzMzOxPQM3MzMzMHFFAAAAAAABATkBKDAIrh7ZQQEJg5dAiU1BAarx0kxgsUUDjpZvEIGBQQJqZmZmZeVBAZmZmZmbGUEBmZmZmZqZQQOkmMQiszE9A+FPjpZs8UECamZmZmdFQQGZmZmZmVlFAqMZLN4kZUEAAAAAAAEBRQGZmZmZmdlFAvp8aL90ET0AAAAAAAKBQQCPb+X5q7E5A0SLb+X7yUECwcmiR7RxPQEJg5dAio1BAUrgehetRU0CamZmZmUlRQKAaL90khk9AO99PjZd+TEDNzMzMzGxMQAAAAAAAoFBAMzMzMzMDUEAMAiuHFnlOQM3MzMzMPFBASOF6FK4XS0AzMzMzMyNQQESLbOf7+UtAx0s3iUEgTUA1XrpJDHJLQCPb+X5q7EtApHA9CtfDSUCF61G4HrVPQAAAAAAAAPh/F9nO91PzT0BmZmZmZqZQQB1aZDvf/01AzczMzMw8TkBeukkMArtLQLByaJHtbExA30+Nl24qUUCLbOf7qWFNQPLSTWIQqExAZmZmZmZGTEAAAAAAAMBQQB1aZDvfP01AmpmZmZnJUEC+nxov3XRNQAAAAAAAkEpAMzMzMzPzTkBcj8L1KAxMQIts5/upsU5AUI2XbhIjUEAzMzMzM/NMQN0kBoGVs0tAqvHSTWLAT0C28/3UeLlMQGZmZmZm5lBA001iEFhZTkCamZmZmVlMQPp+arx0Y05AZmZmZmYGTUBqvHSTGIRLQBfZzvdTs01AZmZmZma2TUDNzMzMzDxNQM3MzMzMXEtAAAAAAACwS0BmZmZmZgZLQDMzMzMzc0tAqMZLN4mJUEBCYOXQIltLQA==\"},\"shape\":[137],\"dtype\":\"float64\",\"order\":\"little\"}],[\"Country_name\",[\"Finland\",\"Denmark\",\"Iceland\",\"Israel\",\"Netherlands\",\"Sweden\",\"Norway\",\"Switzerland\",\"Luxembourg\",\"New Zealand\",\"Austria\",\"Australia\",\"Canada\",\"Ireland\",\"United States\",\"Germany\",\"Belgium\",\"Czechia\",\"United Kingdom\",\"Lithuania\",\"France\",\"Slovenia\",\"Costa Rica\",\"Romania\",\"Singapore\",\"United Arab Emirates\",\"Taiwan Province of China\",\"Uruguay\",\"Slovakia\",\"Saudi Arabia\",\"Estonia\",\"Spain\",\"Italy\",\"Kosovo\",\"Chile\",\"Mexico\",\"Malta\",\"Panama\",\"Poland\",\"Nicaragua\",\"Latvia\",\"Bahrain\",\"Guatemala\",\"Kazakhstan\",\"Serbia\",\"Cyprus\",\"Japan\",\"Croatia\",\"Brazil\",\"El Salvador\",\"Hungary\",\"Argentina\",\"Honduras\",\"Uzbekistan\",\"Malaysia\",\"Portugal\",\"South Korea\",\"Greece\",\"Mauritius\",\"Thailand\",\"Mongolia\",\"Kyrgyzstan\",\"Moldova\",\"China\",\"Vietnam\",\"Paraguay\",\"Montenegro\",\"Jamaica\",\"Bolivia\",\"Russia\",\"Bosnia and Herzegovina\",\"Colombia\",\"Dominican Republic\",\"Ecuador\",\"Peru\",\"Philippines\",\"Bulgaria\",\"Nepal\",\"Armenia\",\"Tajikistan\",\"Algeria\",\"Hong Kong S.A.R. of China\",\"Albania\",\"Indonesia\",\"South Africa\",\"Congo (Brazzaville)\",\"North Macedonia\",\"Venezuela\",\"Laos\",\"Georgia\",\"Guinea\",\"Ukraine\",\"Ivory Coast\",\"Gabon\",\"Nigeria\",\"Cameroon\",\"Mozambique\",\"Iraq\",\"State of Palestine\",\"Morocco\",\"Iran\",\"Senegal\",\"Mauritania\",\"Burkina Faso\",\"Namibia\",\"Turkiye\",\"Ghana\",\"Pakistan\",\"Niger\",\"Tunisia\",\"Kenya\",\"Sri Lanka\",\"Uganda\",\"Chad\",\"Cambodia\",\"Benin\",\"Myanmar\",\"Bangladesh\",\"Gambia\",\"Mali\",\"Egypt\",\"Togo\",\"Jordan\",\"Ethiopia\",\"Liberia\",\"India\",\"Madagascar\",\"Zambia\",\"Tanzania\",\"Comoros\",\"Malawi\",\"Botswana\",\"Congo (Kinshasa)\",\"Zimbabwe\",\"Sierra Leone\",\"Lebanon\",\"Afghanistan\"]],[\"Healthy_life_expectancy\",{\"type\":\"ndarray\",\"array\":{\"type\":\"bytes\",\"data\":\"mpmZmZnJUUAAAAAAANBRQDMzMzMzA1JA+FPjpZssUkAzMzMzM+NRQJqZmZmZCVJAAAAAAADgUUCamZmZmTlSQDMzMzMz61FAZmZmZmaWUUCamZmZmclRQDMzMzMzw1FAmpmZmZnZUUAzMzMzM9NRQGZmZmZmdlBAMzMzMzPTUUCoxks3iblRQDMzMzMzQ1FAMzMzMzOTUUDFILByaNlQQDMzMzMzE1JAF9nO91PDUUAAAAAAAIBRQCUGgZVDw1BAMzMzMzNzUkBkO99PjY9QQGZmZmZmZlFAAAAAAADgUEASg8DKoTVRQKjGSzeJGVBAmpmZmZlpUUBmZmZmZhZSQDMzMzMzA1JAFK5H4XpMUEAzMzMzM5NRQDMzMzMzc1BAZmZmZmbmUUDNzMzMzDxRQEJg5dAiQ1FAmpmZmZlpUECamZmZmZlQQM3MzMzMdFBAMzMzMzNzT0AX2c73U3NQQBKDwMqhxVBAF9nO91MzUkB1kxgEVpZSQM3MzMzMPFFADi2yne9vUECR7Xw/NWZQQAAAAAAA4FBAzczMzMzMUEB56SYxCARQQCUGgZVDU1BA7nw/NV5qUEAAAAAAANBRQJqZmZmZaVJAmpmZmZnJUUDNzMzMzOxPQM3MzMzMHFFAAAAAAABATkBKDAIrh7ZQQEJg5dAiU1BAarx0kxgsUUDjpZvEIGBQQJqZmZmZeVBAZmZmZmbGUEBmZmZmZqZQQOkmMQiszE9A+FPjpZs8UECamZmZmdFQQGZmZmZmVlFAqMZLN4kZUEAAAAAAAEBRQGZmZmZmdlFAvp8aL90ET0AAAAAAAKBQQCPb+X5q7E5A0SLb+X7yUECwcmiR7RxPQEJg5dAio1BAUrgehetRU0CamZmZmUlRQKAaL90khk9AO99PjZd+TEDNzMzMzGxMQAAAAAAAoFBAMzMzMzMDUEAMAiuHFnlOQM3MzMzMPFBASOF6FK4XS0AzMzMzMyNQQESLbOf7+UtAx0s3iUEgTUA1XrpJDHJLQCPb+X5q7EtApHA9CtfDSUCF61G4HrVPQAAAAAAAAPh/F9nO91PzT0BmZmZmZqZQQB1aZDvf/01AzczMzMw8TkBeukkMArtLQLByaJHtbExA30+Nl24qUUCLbOf7qWFNQPLSTWIQqExAZmZmZmZGTEAAAAAAAMBQQB1aZDvfP01AmpmZmZnJUEC+nxov3XRNQAAAAAAAkEpAMzMzMzPzTkBcj8L1KAxMQIts5/upsU5AUI2XbhIjUEAzMzMzM/NMQN0kBoGVs0tAqvHSTWLAT0C28/3UeLlMQGZmZmZm5lBA001iEFhZTkCamZmZmVlMQPp+arx0Y05AZmZmZmYGTUBqvHSTGIRLQBfZzvdTs01AZmZmZma2TUDNzMzMzDxNQM3MzMzMXEtAAAAAAACwS0BmZmZmZgZLQDMzMzMzc0tAqMZLN4mJUEBCYOXQIltLQA==\"},\"shape\":[137],\"dtype\":\"float64\",\"order\":\"little\"}]]}}},\"view\":{\"type\":\"object\",\"name\":\"CDSView\",\"id\":\"p1372\",\"attributes\":{\"filter\":{\"type\":\"object\",\"name\":\"AllIndices\",\"id\":\"p1373\"}}},\"glyph\":{\"type\":\"object\",\"name\":\"Scatter\",\"id\":\"p1368\",\"attributes\":{\"tags\":[\"apply_ranges\"],\"x\":{\"type\":\"field\",\"field\":\"Country name\"},\"y\":{\"type\":\"field\",\"field\":\"Healthy life expectancy\"},\"size\":{\"type\":\"value\",\"value\":3.1622776601683795},\"fill_color\":{\"type\":\"value\",\"value\":\"#30a2da\"},\"hatch_color\":{\"type\":\"value\",\"value\":\"#30a2da\"}}},\"selection_glyph\":{\"type\":\"object\",\"name\":\"Scatter\",\"id\":\"p1374\",\"attributes\":{\"tags\":[\"apply_ranges\"],\"x\":{\"type\":\"field\",\"field\":\"Country name\"},\"y\":{\"type\":\"field\",\"field\":\"Healthy life expectancy\"},\"size\":{\"type\":\"value\",\"value\":3.1622776601683795},\"angle\":{\"type\":\"value\",\"value\":0.0},\"line_color\":{\"type\":\"value\",\"value\":\"black\"},\"line_alpha\":{\"type\":\"value\",\"value\":1.0},\"line_width\":{\"type\":\"value\",\"value\":1},\"line_join\":{\"type\":\"value\",\"value\":\"bevel\"},\"line_cap\":{\"type\":\"value\",\"value\":\"butt\"},\"line_dash\":{\"type\":\"value\",\"value\":[]},\"line_dash_offset\":{\"type\":\"value\",\"value\":0},\"fill_color\":{\"type\":\"value\",\"value\":\"#30a2da\"},\"fill_alpha\":{\"type\":\"value\",\"value\":1.0},\"hatch_color\":{\"type\":\"value\",\"value\":\"#30a2da\"},\"hatch_alpha\":{\"type\":\"value\",\"value\":1.0},\"hatch_scale\":{\"type\":\"value\",\"value\":12.0},\"hatch_pattern\":{\"type\":\"value\",\"value\":null},\"hatch_weight\":{\"type\":\"value\",\"value\":1.0},\"marker\":{\"type\":\"value\",\"value\":\"circle\"}}},\"nonselection_glyph\":{\"type\":\"object\",\"name\":\"Scatter\",\"id\":\"p1369\",\"attributes\":{\"tags\":[\"apply_ranges\"],\"x\":{\"type\":\"field\",\"field\":\"Country name\"},\"y\":{\"type\":\"field\",\"field\":\"Healthy life expectancy\"},\"size\":{\"type\":\"value\",\"value\":3.1622776601683795},\"line_alpha\":{\"type\":\"value\",\"value\":0.1},\"fill_color\":{\"type\":\"value\",\"value\":\"#30a2da\"},\"fill_alpha\":{\"type\":\"value\",\"value\":0.1},\"hatch_color\":{\"type\":\"value\",\"value\":\"#30a2da\"},\"hatch_alpha\":{\"type\":\"value\",\"value\":0.1}}},\"muted_glyph\":{\"type\":\"object\",\"name\":\"Scatter\",\"id\":\"p1370\",\"attributes\":{\"tags\":[\"apply_ranges\"],\"x\":{\"type\":\"field\",\"field\":\"Country name\"},\"y\":{\"type\":\"field\",\"field\":\"Healthy life expectancy\"},\"size\":{\"type\":\"value\",\"value\":3.1622776601683795},\"line_alpha\":{\"type\":\"value\",\"value\":0.2},\"fill_color\":{\"type\":\"value\",\"value\":\"#30a2da\"},\"fill_alpha\":{\"type\":\"value\",\"value\":0.2},\"hatch_color\":{\"type\":\"value\",\"value\":\"#30a2da\"},\"hatch_alpha\":{\"type\":\"value\",\"value\":0.2}}}}}],\"toolbar\":{\"type\":\"object\",\"name\":\"Toolbar\",\"id\":\"p1340\",\"attributes\":{\"tools\":[{\"type\":\"object\",\"name\":\"WheelZoomTool\",\"id\":\"p1329\",\"attributes\":{\"tags\":[\"hv_created\"],\"renderers\":\"auto\",\"zoom_together\":\"none\"}},{\"type\":\"object\",\"name\":\"HoverTool\",\"id\":\"p1330\",\"attributes\":{\"tags\":[\"hv_created\"],\"renderers\":[{\"id\":\"p1371\"}],\"tooltips\":[[\"Country name\",\"@{Country_name}\"],[\"Healthy life expectancy\",\"@{Healthy_life_expectancy}\"]]}},{\"type\":\"object\",\"name\":\"SaveTool\",\"id\":\"p1353\"},{\"type\":\"object\",\"name\":\"PanTool\",\"id\":\"p1354\"},{\"type\":\"object\",\"name\":\"BoxZoomTool\",\"id\":\"p1355\",\"attributes\":{\"overlay\":{\"type\":\"object\",\"name\":\"BoxAnnotation\",\"id\":\"p1356\",\"attributes\":{\"syncable\":false,\"level\":\"overlay\",\"visible\":false,\"left\":{\"type\":\"number\",\"value\":\"nan\"},\"right\":{\"type\":\"number\",\"value\":\"nan\"},\"top\":{\"type\":\"number\",\"value\":\"nan\"},\"bottom\":{\"type\":\"number\",\"value\":\"nan\"},\"left_units\":\"canvas\",\"right_units\":\"canvas\",\"top_units\":\"canvas\",\"bottom_units\":\"canvas\",\"line_color\":\"black\",\"line_alpha\":1.0,\"line_width\":2,\"line_dash\":[4,4],\"fill_color\":\"lightgrey\",\"fill_alpha\":0.5}}}},{\"type\":\"object\",\"name\":\"ResetTool\",\"id\":\"p1361\"}],\"active_drag\":{\"id\":\"p1354\"},\"active_scroll\":{\"id\":\"p1329\"}}},\"left\":[{\"type\":\"object\",\"name\":\"LinearAxis\",\"id\":\"p1348\",\"attributes\":{\"ticker\":{\"type\":\"object\",\"name\":\"BasicTicker\",\"id\":\"p1349\",\"attributes\":{\"mantissas\":[1,2,5]}},\"formatter\":{\"type\":\"object\",\"name\":\"BasicTickFormatter\",\"id\":\"p1350\"},\"axis_label\":\"Healthy life expectancy\",\"axis_label_text_font_size\":\"12pt\",\"major_label_policy\":{\"type\":\"object\",\"name\":\"AllLabels\",\"id\":\"p1351\"}}}],\"below\":[{\"type\":\"object\",\"name\":\"CategoricalAxis\",\"id\":\"p1343\",\"attributes\":{\"ticker\":{\"type\":\"object\",\"name\":\"CategoricalTicker\",\"id\":\"p1344\"},\"formatter\":{\"type\":\"object\",\"name\":\"CategoricalTickFormatter\",\"id\":\"p1345\"},\"axis_label\":\"Country name\",\"axis_label_text_font_size\":\"5pt\",\"major_label_orientation\":1.5707963267948966,\"major_label_policy\":{\"type\":\"object\",\"name\":\"AllLabels\",\"id\":\"p1346\"}}}],\"center\":[{\"type\":\"object\",\"name\":\"Grid\",\"id\":\"p1347\",\"attributes\":{\"axis\":{\"id\":\"p1343\"},\"ticker\":{\"id\":\"p1344\"}}},{\"type\":\"object\",\"name\":\"Grid\",\"id\":\"p1352\",\"attributes\":{\"dimension\":1,\"axis\":{\"id\":\"p1348\"},\"ticker\":{\"id\":\"p1349\"}}}],\"min_border_top\":10,\"min_border_bottom\":10,\"min_border_left\":10,\"min_border_right\":10,\"output_backend\":\"webgl\"}},{\"type\":\"object\",\"name\":\"Spacer\",\"id\":\"p1376\",\"attributes\":{\"name\":\"HSpacer01736\",\"stylesheets\":[\"\\n:host(.pn-loading):before, .pn-loading:before {\\n  background-color: #c3c3c3;\\n  mask-size: auto calc(min(50%, 400px));\\n  -webkit-mask-size: auto calc(min(50%, 400px));\\n}\",{\"id\":\"p1322\"},{\"id\":\"p1320\"},{\"id\":\"p1321\"}],\"margin\":0,\"sizing_mode\":\"stretch_width\",\"align\":\"start\"}}]}}],\"defs\":[{\"type\":\"model\",\"name\":\"ReactiveHTML1\"},{\"type\":\"model\",\"name\":\"FlexBox1\",\"properties\":[{\"name\":\"align_content\",\"kind\":\"Any\",\"default\":\"flex-start\"},{\"name\":\"align_items\",\"kind\":\"Any\",\"default\":\"flex-start\"},{\"name\":\"flex_direction\",\"kind\":\"Any\",\"default\":\"row\"},{\"name\":\"flex_wrap\",\"kind\":\"Any\",\"default\":\"wrap\"},{\"name\":\"gap\",\"kind\":\"Any\",\"default\":\"\"},{\"name\":\"justify_content\",\"kind\":\"Any\",\"default\":\"flex-start\"}]},{\"type\":\"model\",\"name\":\"FloatPanel1\",\"properties\":[{\"name\":\"config\",\"kind\":\"Any\",\"default\":{\"type\":\"map\"}},{\"name\":\"contained\",\"kind\":\"Any\",\"default\":true},{\"name\":\"position\",\"kind\":\"Any\",\"default\":\"right-top\"},{\"name\":\"offsetx\",\"kind\":\"Any\",\"default\":null},{\"name\":\"offsety\",\"kind\":\"Any\",\"default\":null},{\"name\":\"theme\",\"kind\":\"Any\",\"default\":\"primary\"},{\"name\":\"status\",\"kind\":\"Any\",\"default\":\"normalized\"}]},{\"type\":\"model\",\"name\":\"GridStack1\",\"properties\":[{\"name\":\"mode\",\"kind\":\"Any\",\"default\":\"warn\"},{\"name\":\"ncols\",\"kind\":\"Any\",\"default\":null},{\"name\":\"nrows\",\"kind\":\"Any\",\"default\":null},{\"name\":\"allow_resize\",\"kind\":\"Any\",\"default\":true},{\"name\":\"allow_drag\",\"kind\":\"Any\",\"default\":true},{\"name\":\"state\",\"kind\":\"Any\",\"default\":[]}]},{\"type\":\"model\",\"name\":\"drag1\",\"properties\":[{\"name\":\"slider_width\",\"kind\":\"Any\",\"default\":5},{\"name\":\"slider_color\",\"kind\":\"Any\",\"default\":\"black\"},{\"name\":\"value\",\"kind\":\"Any\",\"default\":50}]},{\"type\":\"model\",\"name\":\"click1\",\"properties\":[{\"name\":\"terminal_output\",\"kind\":\"Any\",\"default\":\"\"},{\"name\":\"debug_name\",\"kind\":\"Any\",\"default\":\"\"},{\"name\":\"clears\",\"kind\":\"Any\",\"default\":0}]},{\"type\":\"model\",\"name\":\"FastWrapper1\",\"properties\":[{\"name\":\"object\",\"kind\":\"Any\",\"default\":null},{\"name\":\"style\",\"kind\":\"Any\",\"default\":null}]},{\"type\":\"model\",\"name\":\"NotificationAreaBase1\",\"properties\":[{\"name\":\"js_events\",\"kind\":\"Any\",\"default\":{\"type\":\"map\"}},{\"name\":\"position\",\"kind\":\"Any\",\"default\":\"bottom-right\"},{\"name\":\"_clear\",\"kind\":\"Any\",\"default\":0}]},{\"type\":\"model\",\"name\":\"NotificationArea1\",\"properties\":[{\"name\":\"js_events\",\"kind\":\"Any\",\"default\":{\"type\":\"map\"}},{\"name\":\"notifications\",\"kind\":\"Any\",\"default\":[]},{\"name\":\"position\",\"kind\":\"Any\",\"default\":\"bottom-right\"},{\"name\":\"_clear\",\"kind\":\"Any\",\"default\":0},{\"name\":\"types\",\"kind\":\"Any\",\"default\":[{\"type\":\"map\",\"entries\":[[\"type\",\"warning\"],[\"background\",\"#ffc107\"],[\"icon\",{\"type\":\"map\",\"entries\":[[\"className\",\"fas fa-exclamation-triangle\"],[\"tagName\",\"i\"],[\"color\",\"white\"]]}]]},{\"type\":\"map\",\"entries\":[[\"type\",\"info\"],[\"background\",\"#007bff\"],[\"icon\",{\"type\":\"map\",\"entries\":[[\"className\",\"fas fa-info-circle\"],[\"tagName\",\"i\"],[\"color\",\"white\"]]}]]}]}]},{\"type\":\"model\",\"name\":\"Notification\",\"properties\":[{\"name\":\"background\",\"kind\":\"Any\",\"default\":null},{\"name\":\"duration\",\"kind\":\"Any\",\"default\":3000},{\"name\":\"icon\",\"kind\":\"Any\",\"default\":null},{\"name\":\"message\",\"kind\":\"Any\",\"default\":\"\"},{\"name\":\"notification_type\",\"kind\":\"Any\",\"default\":null},{\"name\":\"_destroyed\",\"kind\":\"Any\",\"default\":false}]},{\"type\":\"model\",\"name\":\"TemplateActions1\",\"properties\":[{\"name\":\"open_modal\",\"kind\":\"Any\",\"default\":0},{\"name\":\"close_modal\",\"kind\":\"Any\",\"default\":0}]},{\"type\":\"model\",\"name\":\"BootstrapTemplateActions1\",\"properties\":[{\"name\":\"open_modal\",\"kind\":\"Any\",\"default\":0},{\"name\":\"close_modal\",\"kind\":\"Any\",\"default\":0}]},{\"type\":\"model\",\"name\":\"TemplateEditor1\",\"properties\":[{\"name\":\"layout\",\"kind\":\"Any\",\"default\":[]}]},{\"type\":\"model\",\"name\":\"MaterialTemplateActions1\",\"properties\":[{\"name\":\"open_modal\",\"kind\":\"Any\",\"default\":0},{\"name\":\"close_modal\",\"kind\":\"Any\",\"default\":0}]},{\"type\":\"model\",\"name\":\"copy_to_clipboard1\",\"properties\":[{\"name\":\"fill\",\"kind\":\"Any\",\"default\":\"none\"},{\"name\":\"value\",\"kind\":\"Any\",\"default\":null}]}]}};\n",
       "  var render_items = [{\"docid\":\"15ea4993-4f53-4b78-b74b-2d911278e6a8\",\"roots\":{\"p1319\":\"eb0ee9e7-6486-43e7-a204-b80662a7f040\"},\"root_ids\":[\"p1319\"]}];\n",
       "  var docs = Object.values(docs_json)\n",
       "  if (!docs) {\n",
       "    return\n",
       "  }\n",
       "  const py_version = docs[0].version.replace('rc', '-rc.').replace('.dev', '-dev.')\n",
       "  function embed_document(root) {\n",
       "    var Bokeh = get_bokeh(root)\n",
       "    Bokeh.embed.embed_items_notebook(docs_json, render_items);\n",
       "    for (const render_item of render_items) {\n",
       "      for (const root_id of render_item.root_ids) {\n",
       "\tconst id_el = document.getElementById(root_id)\n",
       "\tif (id_el.children.length && (id_el.children[0].className === 'bk-root')) {\n",
       "\t  const root_el = id_el.children[0]\n",
       "\t  root_el.id = root_el.id + '-rendered'\n",
       "\t}\n",
       "      }\n",
       "    }\n",
       "  }\n",
       "  function get_bokeh(root) {\n",
       "    if (root.Bokeh === undefined) {\n",
       "      return null\n",
       "    } else if (root.Bokeh.version !== py_version) {\n",
       "      if (root.Bokeh.versions === undefined || !root.Bokeh.versions.has(py_version)) {\n",
       "\treturn null\n",
       "      }\n",
       "      return root.Bokeh.versions.get(py_version);\n",
       "    } else if (root.Bokeh.version === py_version) {\n",
       "      return root.Bokeh\n",
       "    }\n",
       "    return null\n",
       "  }\n",
       "  function is_loaded(root) {\n",
       "    var Bokeh = get_bokeh(root)\n",
       "    return (Bokeh != null && Bokeh.Panel !== undefined)\n",
       "  }\n",
       "  if (is_loaded(root)) {\n",
       "    embed_document(root);\n",
       "  } else {\n",
       "    var attempts = 0;\n",
       "    var timer = setInterval(function(root) {\n",
       "      if (is_loaded(root)) {\n",
       "        clearInterval(timer);\n",
       "        embed_document(root);\n",
       "      } else if (document.readyState == \"complete\") {\n",
       "        attempts++;\n",
       "        if (attempts > 200) {\n",
       "          clearInterval(timer);\n",
       "\t  var Bokeh = get_bokeh(root)\n",
       "\t  if (Bokeh == null || Bokeh.Panel == null) {\n",
       "            console.warn(\"Panel: ERROR: Unable to run Panel code because Bokeh or Panel library is missing\");\n",
       "\t  } else {\n",
       "\t    console.warn(\"Panel: WARNING: Attempting to render but not all required libraries could be resolved.\")\n",
       "\t    embed_document(root)\n",
       "\t  }\n",
       "        }\n",
       "      }\n",
       "    }, 25, root)\n",
       "  }\n",
       "})(window);</script>"
      ],
      "text/plain": [
       ":Points   [Country name,Healthy life expectancy]"
      ]
     },
     "execution_count": 21,
     "metadata": {
      "application/vnd.holoviews_exec.v0+json": {
       "id": "p1319"
      }
     },
     "output_type": "execute_result"
    },
    {
     "data": {
      "text/plain": [
       "<Figure size 640x480 with 0 Axes>"
      ]
     },
     "metadata": {},
     "output_type": "display_data"
    }
   ],
   "source": [
    "import pandas as pd\n",
    "import hvplot.pandas\n",
    "\n",
    "\n",
    "# Read the CSV file into a DataFrame\n",
    "dataframe_2023_subset = pd.read_csv(\"Resources/H2023.csv\")\n",
    "\n",
    "scatter_plot = dataframe_2023_subset.hvplot.points(\n",
    "    x=\"Country name\",\n",
    "    y=\"Healthy life expectancy\",\n",
    "    hover_cols=[\"Country name\", \"Healthy life expectancy\"],\n",
    "    title=\"Scatter Plot of Healthy Life Expectancy by Country\",\n",
    "    xlabel=\"Country name\",\n",
    "    ylabel=\"Healthy life expectancy\",\n",
    "    grid=True,  # Add grid lines\n",
    "    line_color=\"black\",  # Set circle outline color to black\n",
    "    marker=\"o\",  # Use circles as markers\n",
    "    size=10,  # Set circle size\n",
    "    fontsize={\"xlabel\": 5, \"ylabel\": 12, \"title\": 14},  # Set font sizes for labels and title\n",
    "    rot=90,  # Rotate x-axis labels by 45 degrees\n",
    ")\n",
    "\n",
    "# Save the figure\n",
    "# plt.savefig(r\"C:\\Users\\sindh\\WAUS-VIRT-DATA-PT-03-2024-U-LOLC\\Project1\\Project__1\\Output\\Fig2.png\")\n",
    "# Show the plot\n",
    "scatter_plot\n"
   ]
  },
  {
   "cell_type": "code",
   "execution_count": null,
   "metadata": {},
   "outputs": [],
   "source": []
  },
  {
   "cell_type": "code",
   "execution_count": null,
   "metadata": {},
   "outputs": [],
   "source": []
  },
  {
   "cell_type": "code",
   "execution_count": null,
   "metadata": {},
   "outputs": [],
   "source": []
  },
  {
   "cell_type": "markdown",
   "metadata": {},
   "source": [
    "3.Which continent is the happiest in 2023? \n",
    "(Uma)\n"
   ]
  },
  {
   "cell_type": "code",
   "execution_count": null,
   "metadata": {},
   "outputs": [],
   "source": []
  },
  {
   "cell_type": "code",
   "execution_count": null,
   "metadata": {},
   "outputs": [],
   "source": []
  },
  {
   "cell_type": "code",
   "execution_count": null,
   "metadata": {},
   "outputs": [],
   "source": []
  },
  {
   "cell_type": "code",
   "execution_count": null,
   "metadata": {},
   "outputs": [],
   "source": []
  },
  {
   "cell_type": "code",
   "execution_count": null,
   "metadata": {},
   "outputs": [],
   "source": []
  },
  {
   "cell_type": "markdown",
   "metadata": {},
   "source": [
    "4.Does Australia, Spain, China and the USA get happier over 2021-2024?\n",
    "(Kristina)"
   ]
  },
  {
   "cell_type": "code",
   "execution_count": null,
   "metadata": {},
   "outputs": [],
   "source": []
  },
  {
   "cell_type": "code",
   "execution_count": null,
   "metadata": {},
   "outputs": [],
   "source": []
  },
  {
   "cell_type": "code",
   "execution_count": null,
   "metadata": {},
   "outputs": [],
   "source": []
  },
  {
   "cell_type": "code",
   "execution_count": null,
   "metadata": {},
   "outputs": [],
   "source": []
  },
  {
   "cell_type": "code",
   "execution_count": null,
   "metadata": {},
   "outputs": [],
   "source": []
  },
  {
   "cell_type": "markdown",
   "metadata": {},
   "source": [
    "5.Is there a correlation between a country's unemployment rate and its national happiness score?\n",
    "(Kelela)\n"
   ]
  },
  {
   "cell_type": "code",
   "execution_count": null,
   "metadata": {},
   "outputs": [],
   "source": []
  },
  {
   "cell_type": "code",
   "execution_count": null,
   "metadata": {},
   "outputs": [],
   "source": []
  },
  {
   "cell_type": "code",
   "execution_count": null,
   "metadata": {},
   "outputs": [],
   "source": []
  },
  {
   "cell_type": "code",
   "execution_count": null,
   "metadata": {},
   "outputs": [],
   "source": []
  },
  {
   "cell_type": "code",
   "execution_count": null,
   "metadata": {},
   "outputs": [],
   "source": []
  }
 ],
 "metadata": {
  "kernelspec": {
   "display_name": "Python 3 (ipykernel)",
   "language": "python",
   "name": "python3"
  },
  "language_info": {
   "codemirror_mode": {
    "name": "ipython",
    "version": 3
   },
   "file_extension": ".py",
   "mimetype": "text/x-python",
   "name": "python",
   "nbconvert_exporter": "python",
   "pygments_lexer": "ipython3",
   "version": "3.11.7"
  }
 },
 "nbformat": 4,
 "nbformat_minor": 4
}
